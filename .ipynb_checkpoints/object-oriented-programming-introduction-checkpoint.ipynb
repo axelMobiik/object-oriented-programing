{
 "cells": [
  {
   "cell_type": "markdown",
   "id": "abe62db5-6649-4ea0-a75a-391968e6869f",
   "metadata": {},
   "source": [
    "<h1>Object Oriented Programming</h1>\n",
    "<li>Object Oriented Programming (OOP) allows programmers to create their own objects that have methods and attributes</li>\n",
    "<li>Recall that after defining a string, list, dictionary, or other objects, you were able to call methods off of them with the .method_name() syntax</li>\n",
    "<li>These methods act as functions that use information about the object, as well as the object irself to return results, or change the current object. For example this includes appending o a list, or counting the occurences of an element in a tuple</li>\n",
    "<li>OOP allows users to create their own objects. The general format is often confusing when first encountered, and it's usefulness may not be completely clear ar firt. In general, OOP allows us to create code that is repeatable and organized</li>\n",
    "<li>For much larger scripts of Python code, functions by themselves aren't enough for organization and repeatability. Commonly repeated tasks and objects can be defined with OOP to create code that is more usable.</li>\n",
    "\n",
    "<code>class NameOfClass():\n",
    "    def __init__(self, param1, param2):\n",
    "        self.param1 = param1\n",
    "        self.param2 = param2\n",
    "    def some_method(self):\n",
    "        # perform some action\n",
    "        print(self.param1)</code>"
   ]
  },
  {
   "cell_type": "code",
   "execution_count": 1,
   "id": "11639f1a-c7b5-4181-a15f-28f844c1420d",
   "metadata": {},
   "outputs": [],
   "source": [
    "mylist = [1,2,3]"
   ]
  },
  {
   "cell_type": "code",
   "execution_count": 2,
   "id": "68d708fc-eb82-40bd-9125-0b13046b9a5b",
   "metadata": {},
   "outputs": [],
   "source": [
    "myset = set()"
   ]
  },
  {
   "cell_type": "code",
   "execution_count": 3,
   "id": "30289936-308f-47de-99d6-06b5d3616986",
   "metadata": {},
   "outputs": [
    {
     "data": {
      "text/plain": [
       "set"
      ]
     },
     "execution_count": 3,
     "metadata": {},
     "output_type": "execute_result"
    }
   ],
   "source": [
    "type(myset)"
   ]
  },
  {
   "cell_type": "code",
   "execution_count": 4,
   "id": "5ae2995b-8180-43ae-8454-465c3e3f85fb",
   "metadata": {},
   "outputs": [
    {
     "data": {
      "text/plain": [
       "list"
      ]
     },
     "execution_count": 4,
     "metadata": {},
     "output_type": "execute_result"
    }
   ],
   "source": [
    "type(mylist)"
   ]
  },
  {
   "cell_type": "code",
   "execution_count": 16,
   "id": "817d0246-558c-40ab-b0bc-4035ec927691",
   "metadata": {},
   "outputs": [],
   "source": [
    "# Understand attributes\n",
    "class DogExample():\n",
    "    def __init__(self, mybreed):\n",
    "        # Attributes\n",
    "        # We take in the argument\n",
    "        # Assign it using self.attribute_name\n",
    "        self.my_attribute = mybreed"
   ]
  },
  {
   "cell_type": "code",
   "execution_count": 17,
   "id": "f6bbe10c-188f-4519-ac59-b5f49faa572b",
   "metadata": {},
   "outputs": [],
   "source": [
    "my_dog = DogExample(mybreed='Lab')"
   ]
  },
  {
   "cell_type": "code",
   "execution_count": 18,
   "id": "fe6a10fc-fd6f-4640-a3b3-0fef55458617",
   "metadata": {},
   "outputs": [
    {
     "data": {
      "text/plain": [
       "__main__.DogExample"
      ]
     },
     "execution_count": 18,
     "metadata": {},
     "output_type": "execute_result"
    }
   ],
   "source": [
    "type(my_dog)"
   ]
  },
  {
   "cell_type": "code",
   "execution_count": 19,
   "id": "7ae7561d-9bb4-44e6-b7fa-94f63e6bf441",
   "metadata": {},
   "outputs": [
    {
     "data": {
      "text/plain": [
       "'Lab'"
      ]
     },
     "execution_count": 19,
     "metadata": {},
     "output_type": "execute_result"
    }
   ],
   "source": [
    "my_dog.my_attribute"
   ]
  },
  {
   "cell_type": "code",
   "execution_count": 58,
   "id": "a234554c-57d6-443c-8fac-fc24220cb295",
   "metadata": {},
   "outputs": [],
   "source": [
    "# Correct format - good practice\n",
    "class Dog():\n",
    "    # Class object attribute\n",
    "    # Same for any instance of a class\n",
    "    species = 'mammal'\n",
    "\n",
    "    # __init__ is like a constructor\n",
    "    def __init__(self, breed, name, spots):\n",
    "        self.breed = breed\n",
    "        self.name = name\n",
    "        self.spots = spots\n",
    "\n",
    "    # Operations/Actions --> Methods\n",
    "    def bark(self, number):\n",
    "        print(f\"Woof! My name is {self.name} and the number is {number}\")"
   ]
  },
  {
   "cell_type": "code",
   "execution_count": 59,
   "id": "a46a83b9-a702-49b7-9a30-c35a670ab9d3",
   "metadata": {},
   "outputs": [],
   "source": [
    "my_dog = Dog('Huskie', 'Sammy', False)"
   ]
  },
  {
   "cell_type": "code",
   "execution_count": 60,
   "id": "9e7b3016-fe5c-4802-9ec9-176f962cbe5f",
   "metadata": {},
   "outputs": [
    {
     "data": {
      "text/plain": [
       "__main__.Dog"
      ]
     },
     "execution_count": 60,
     "metadata": {},
     "output_type": "execute_result"
    }
   ],
   "source": [
    "type(my_dog)"
   ]
  },
  {
   "cell_type": "code",
   "execution_count": 61,
   "id": "7fe08848-a597-4015-9290-b5e3946a2c66",
   "metadata": {},
   "outputs": [
    {
     "data": {
      "text/plain": [
       "'Huskie'"
      ]
     },
     "execution_count": 61,
     "metadata": {},
     "output_type": "execute_result"
    }
   ],
   "source": [
    "my_dog.breed"
   ]
  },
  {
   "cell_type": "code",
   "execution_count": 62,
   "id": "83332347-fd82-4b69-b367-6b157c671a8f",
   "metadata": {},
   "outputs": [
    {
     "data": {
      "text/plain": [
       "False"
      ]
     },
     "execution_count": 62,
     "metadata": {},
     "output_type": "execute_result"
    }
   ],
   "source": [
    "my_dog.spots"
   ]
  },
  {
   "cell_type": "code",
   "execution_count": 63,
   "id": "90adf7b8-eb5d-4ac3-bfcd-6f9e56e9b161",
   "metadata": {},
   "outputs": [
    {
     "data": {
      "text/plain": [
       "'mammal'"
      ]
     },
     "execution_count": 63,
     "metadata": {},
     "output_type": "execute_result"
    }
   ],
   "source": [
    "my_dog.species"
   ]
  },
  {
   "cell_type": "code",
   "execution_count": 64,
   "id": "b001fca0-0f0b-4681-a30d-e423d22e952f",
   "metadata": {},
   "outputs": [
    {
     "name": "stdout",
     "output_type": "stream",
     "text": [
      "Woof! My name is Sammy and the number is 1\n"
     ]
    }
   ],
   "source": [
    "my_dog.bark(1)"
   ]
  },
  {
   "cell_type": "code",
   "execution_count": 76,
   "id": "e58f06ea-84c5-42cc-a87f-b17ef2d3a8d1",
   "metadata": {},
   "outputs": [],
   "source": [
    "class Circle():\n",
    "    # Class object attribute\n",
    "    pi = 3.14\n",
    "\n",
    "    def __init__(self, radius=1):\n",
    "        self.radius = radius\n",
    "        self.area = radius * radius * self.pi\n",
    "\n",
    "    def get_circumference(self):\n",
    "        return self.radius * self.pi * 2"
   ]
  },
  {
   "cell_type": "code",
   "execution_count": 77,
   "id": "861f9a92-4760-4a3c-9507-784185646853",
   "metadata": {},
   "outputs": [],
   "source": [
    "my_circle = Circle(30)"
   ]
  },
  {
   "cell_type": "code",
   "execution_count": 78,
   "id": "be8b1998-650d-448c-9b77-60c375b2d8c5",
   "metadata": {},
   "outputs": [
    {
     "data": {
      "text/plain": [
       "3.14"
      ]
     },
     "execution_count": 78,
     "metadata": {},
     "output_type": "execute_result"
    }
   ],
   "source": [
    "my_circle.pi"
   ]
  },
  {
   "cell_type": "code",
   "execution_count": 79,
   "id": "900a4277-e0a5-4715-8abd-802b661231dd",
   "metadata": {},
   "outputs": [
    {
     "data": {
      "text/plain": [
       "30"
      ]
     },
     "execution_count": 79,
     "metadata": {},
     "output_type": "execute_result"
    }
   ],
   "source": [
    "my_circle.radius"
   ]
  },
  {
   "cell_type": "code",
   "execution_count": 80,
   "id": "4002ecd5-2590-47df-860d-f0d24debb357",
   "metadata": {},
   "outputs": [
    {
     "data": {
      "text/plain": [
       "188.4"
      ]
     },
     "execution_count": 80,
     "metadata": {},
     "output_type": "execute_result"
    }
   ],
   "source": [
    "my_circle.get_circumference()"
   ]
  },
  {
   "cell_type": "code",
   "execution_count": 81,
   "id": "fb27757b-c439-4955-a3c8-a901a42f1ae6",
   "metadata": {},
   "outputs": [
    {
     "data": {
      "text/plain": [
       "2826.0"
      ]
     },
     "execution_count": 81,
     "metadata": {},
     "output_type": "execute_result"
    }
   ],
   "source": [
    "my_circle.area"
   ]
  },
  {
   "cell_type": "code",
   "execution_count": null,
   "id": "6f48028f-7e4b-441d-b583-a0a80cd722bd",
   "metadata": {},
   "outputs": [],
   "source": []
  }
 ],
 "metadata": {
  "kernelspec": {
   "display_name": "Python 3 (ipykernel)",
   "language": "python",
   "name": "python3"
  },
  "language_info": {
   "codemirror_mode": {
    "name": "ipython",
    "version": 3
   },
   "file_extension": ".py",
   "mimetype": "text/x-python",
   "name": "python",
   "nbconvert_exporter": "python",
   "pygments_lexer": "ipython3",
   "version": "3.11.7"
  }
 },
 "nbformat": 4,
 "nbformat_minor": 5
}
