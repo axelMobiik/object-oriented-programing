{
 "cells": [
  {
   "cell_type": "markdown",
   "id": "97bd868a-c37b-442d-b4d2-39e9247f5cf9",
   "metadata": {},
   "source": [
    "<h1>Inheritance and Polymorphism</h1>"
   ]
  },
  {
   "cell_type": "code",
   "execution_count": 5,
   "id": "e440b080-fa29-4f97-a9bc-68b187d47a21",
   "metadata": {},
   "outputs": [],
   "source": [
    "class Animal():\n",
    "    def __init__(self):\n",
    "        print('Animal created')\n",
    "\n",
    "    def who_am_i(self):\n",
    "        print('I am an animal')\n",
    "\n",
    "    def eat(self):\n",
    "        print('I am eating')"
   ]
  },
  {
   "cell_type": "code",
   "execution_count": 29,
   "id": "017e8c55-21dc-408f-aa20-6a4dd1896408",
   "metadata": {},
   "outputs": [],
   "source": [
    "class Dog(Animal):\n",
    "    def __init__(self):\n",
    "        Animal.__init__(self)\n",
    "        print('Dog Created')\n",
    "\n",
    "    def who_am_i(self):\n",
    "        print('I am a dog!')\n",
    "\n",
    "    def eat(self):\n",
    "        print('I am a dog and eating')\n",
    "\n",
    "    def bark(self):\n",
    "        print('Woof!')"
   ]
  },
  {
   "cell_type": "code",
   "execution_count": 30,
   "id": "3fd04e45-74ac-40c2-99f1-fc05fd879581",
   "metadata": {},
   "outputs": [
    {
     "name": "stdout",
     "output_type": "stream",
     "text": [
      "Animal created\n",
      "Dog Created\n"
     ]
    }
   ],
   "source": [
    "mydog = Dog()"
   ]
  },
  {
   "cell_type": "code",
   "execution_count": 31,
   "id": "63860741-c2a2-493c-b4f9-8ac7ef839469",
   "metadata": {},
   "outputs": [
    {
     "name": "stdout",
     "output_type": "stream",
     "text": [
      "I am a dog and eating\n"
     ]
    }
   ],
   "source": [
    "mydog.eat()"
   ]
  },
  {
   "cell_type": "code",
   "execution_count": 32,
   "id": "27584c6d-899b-456f-a95f-886d9b13eeb3",
   "metadata": {},
   "outputs": [
    {
     "name": "stdout",
     "output_type": "stream",
     "text": [
      "Animal created\n"
     ]
    }
   ],
   "source": [
    "myanimal = Animal()"
   ]
  },
  {
   "cell_type": "code",
   "execution_count": 33,
   "id": "c27f89ce-226c-4595-8657-7dc579771e11",
   "metadata": {},
   "outputs": [
    {
     "name": "stdout",
     "output_type": "stream",
     "text": [
      "I am an animal\n"
     ]
    }
   ],
   "source": [
    "myanimal.who_am_i()"
   ]
  },
  {
   "cell_type": "code",
   "execution_count": 34,
   "id": "2d1e3134-b1dd-4737-9e56-e11465ff8753",
   "metadata": {},
   "outputs": [
    {
     "name": "stdout",
     "output_type": "stream",
     "text": [
      "I am a dog!\n"
     ]
    }
   ],
   "source": [
    "mydog.who_am_i()"
   ]
  },
  {
   "cell_type": "markdown",
   "id": "833346b4-0752-4c83-9904-c58b5ea2f447",
   "metadata": {},
   "source": [
    "<h1>Polymorphism</h1>"
   ]
  },
  {
   "cell_type": "code",
   "execution_count": 38,
   "id": "059a9b98-dd7c-4be1-901a-11f96d83adb7",
   "metadata": {},
   "outputs": [],
   "source": [
    "class Dog():\n",
    "    def __init__(self, name):\n",
    "        self.name = name\n",
    "\n",
    "    def speak(self):\n",
    "        return self.name + ' says woof!'"
   ]
  },
  {
   "cell_type": "code",
   "execution_count": 39,
   "id": "7acda3cf-36b1-42f9-8299-22e870232745",
   "metadata": {},
   "outputs": [],
   "source": [
    "class Cat():\n",
    "    def __init__(self, name):\n",
    "        self.name = name\n",
    "\n",
    "    def speak(self):\n",
    "        return self.name + ' says meow!'"
   ]
  },
  {
   "cell_type": "code",
   "execution_count": 40,
   "id": "698d573e-e8a5-4c42-894f-0f89853c3661",
   "metadata": {},
   "outputs": [],
   "source": [
    "niko = Dog(\"niko\")\n",
    "felix = Cat(\"felix\")"
   ]
  },
  {
   "cell_type": "code",
   "execution_count": 41,
   "id": "fc861fd6-d964-4245-b12e-65e44f04229c",
   "metadata": {},
   "outputs": [
    {
     "name": "stdout",
     "output_type": "stream",
     "text": [
      "niko says woof!\n"
     ]
    }
   ],
   "source": [
    "print(niko.speak())"
   ]
  },
  {
   "cell_type": "code",
   "execution_count": 42,
   "id": "b6036ef8-01a0-4727-bd19-4488130a20d9",
   "metadata": {},
   "outputs": [
    {
     "name": "stdout",
     "output_type": "stream",
     "text": [
      "felix says meow!\n"
     ]
    }
   ],
   "source": [
    "print(felix.speak())"
   ]
  },
  {
   "cell_type": "code",
   "execution_count": 44,
   "id": "2c6f3a10-601a-4a58-972d-3f33c573f9e3",
   "metadata": {},
   "outputs": [
    {
     "name": "stdout",
     "output_type": "stream",
     "text": [
      "<class '__main__.Dog'>\n",
      "niko says woof!\n",
      "<class '__main__.Cat'>\n",
      "felix says meow!\n"
     ]
    }
   ],
   "source": [
    "for pet in [niko, felix]:\n",
    "    print(type(pet))\n",
    "    print(pet.speak())"
   ]
  },
  {
   "cell_type": "code",
   "execution_count": 45,
   "id": "07df039d-4a27-40ca-bbf9-f0c017d0b1a0",
   "metadata": {},
   "outputs": [],
   "source": [
    "def pet_speak(pet):\n",
    "    print(pet.speak())"
   ]
  },
  {
   "cell_type": "code",
   "execution_count": 47,
   "id": "30d1943b-1918-4da3-b4d8-b3fb614ea3ed",
   "metadata": {},
   "outputs": [
    {
     "name": "stdout",
     "output_type": "stream",
     "text": [
      "niko says woof!\n"
     ]
    }
   ],
   "source": [
    "pet_speak(niko)"
   ]
  },
  {
   "cell_type": "code",
   "execution_count": 53,
   "id": "ac7a374e-1add-43e7-a56a-f34adfd12064",
   "metadata": {},
   "outputs": [],
   "source": [
    "class Animal():\n",
    "    def __init__(self, name):\n",
    "        self.name = name\n",
    "\n",
    "    def speak(self):\n",
    "        raise NotImplementedError('Subclass must implement this abstract method')"
   ]
  },
  {
   "cell_type": "code",
   "execution_count": 54,
   "id": "0017cacd-aa6a-4bf4-9e2d-0178c283275c",
   "metadata": {},
   "outputs": [],
   "source": [
    "class Dog(Animal):\n",
    "    def speak(self):\n",
    "        return self.name + \" say woof!\""
   ]
  },
  {
   "cell_type": "code",
   "execution_count": 55,
   "id": "5be24d46-3fcb-4973-a4a9-f0acb105f9b7",
   "metadata": {},
   "outputs": [],
   "source": [
    "class Cat(Animal):\n",
    "    def speak(self):\n",
    "        return self.name + \" say meow!\""
   ]
  },
  {
   "cell_type": "code",
   "execution_count": 56,
   "id": "3d571365-24a9-4f9b-9996-7460fc01c12e",
   "metadata": {},
   "outputs": [],
   "source": [
    "fido = Dog('Fido')"
   ]
  },
  {
   "cell_type": "code",
   "execution_count": 57,
   "id": "994ba5d1-556e-4386-b7de-3932b7fd3228",
   "metadata": {},
   "outputs": [],
   "source": [
    "isis = Cat('Isis')"
   ]
  },
  {
   "cell_type": "code",
   "execution_count": 58,
   "id": "711a890b-6e5d-431b-8a0e-bd364b48b592",
   "metadata": {},
   "outputs": [
    {
     "data": {
      "text/plain": [
       "'Fido say woof!'"
      ]
     },
     "execution_count": 58,
     "metadata": {},
     "output_type": "execute_result"
    }
   ],
   "source": [
    "fido.speak()"
   ]
  },
  {
   "cell_type": "code",
   "execution_count": 59,
   "id": "d79ef34f-afdc-4edf-8580-37ec6705f913",
   "metadata": {},
   "outputs": [
    {
     "data": {
      "text/plain": [
       "'Isis say meow!'"
      ]
     },
     "execution_count": 59,
     "metadata": {},
     "output_type": "execute_result"
    }
   ],
   "source": [
    "isis.speak()"
   ]
  },
  {
   "cell_type": "code",
   "execution_count": null,
   "id": "632361e6-a579-4c88-b892-2703bbc1b688",
   "metadata": {},
   "outputs": [],
   "source": []
  }
 ],
 "metadata": {
  "kernelspec": {
   "display_name": "Python 3 (ipykernel)",
   "language": "python",
   "name": "python3"
  },
  "language_info": {
   "codemirror_mode": {
    "name": "ipython",
    "version": 3
   },
   "file_extension": ".py",
   "mimetype": "text/x-python",
   "name": "python",
   "nbconvert_exporter": "python",
   "pygments_lexer": "ipython3",
   "version": "3.11.7"
  }
 },
 "nbformat": 4,
 "nbformat_minor": 5
}
